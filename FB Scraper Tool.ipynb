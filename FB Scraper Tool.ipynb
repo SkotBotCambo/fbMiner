{
 "metadata": {
  "name": "",
  "signature": "sha256:4d6c6cbf8f0b48250a745867a11de230815e75733b3cb149cf740ef92f115478"
 },
 "nbformat": 3,
 "nbformat_minor": 0,
 "worksheets": [
  {
   "cells": [
    {
     "cell_type": "markdown",
     "metadata": {},
     "source": [
      "# Scott's Python Facebook Mining Tool"
     ]
    },
    {
     "cell_type": "markdown",
     "metadata": {},
     "source": [
      "Dependencies\n",
      " * [facepy](https://pypi.python.org/pypi/facepy/0.9.0)\n",
      " * [facebook-sdk](http://www.pythonforfacebook.com/)\n",
      "\n",
      "[Original Documentation](https://docs.google.com/document/d/1g3hY_91WdvssofOhSei0S3xgdgxXIDCdVQnA_Efq9Is/edit?usp=sharing)"
     ]
    },
    {
     "cell_type": "markdown",
     "metadata": {},
     "source": [
      "# Getting data from a facebook page\n"
     ]
    },
    {
     "cell_type": "markdown",
     "metadata": {},
     "source": [
      "## 1. Make an instance of fbMiner"
     ]
    },
    {
     "cell_type": "code",
     "collapsed": false,
     "input": [
      "import scraper\n",
      "import json"
     ],
     "language": "python",
     "metadata": {},
     "outputs": [],
     "prompt_number": 43
    },
    {
     "cell_type": "code",
     "collapsed": false,
     "input": [
      "reload(scraper)"
     ],
     "language": "python",
     "metadata": {},
     "outputs": [
      {
       "metadata": {},
       "output_type": "pyout",
       "prompt_number": 44,
       "text": [
        "<module 'scraper' from 'scraper.py'>"
       ]
      }
     ],
     "prompt_number": 44
    },
    {
     "cell_type": "code",
     "collapsed": false,
     "input": [
      "fbm = scraper.fbMiner()"
     ],
     "language": "python",
     "metadata": {},
     "outputs": [],
     "prompt_number": 45
    },
    {
     "cell_type": "markdown",
     "metadata": {},
     "source": [
      "## 2. Get the id of the page that you want to get data from and set it in fbMiner\n",
      "\n",
      "    you may need to try two ways to do this.  I\u2019m not sure why sometimes one works and not the other, probably depends on exactly what kind of page it is (i.e: page, group, profile, event, etc).\n",
      "\n",
      "    Try this first. Log on to facebook and load the page you want to get posts from.  If there is a number at the end of the url, this is the page id number. \n",
      "\n",
      "    If there is no number, then change the url from \u201cwww.facebook.com/page_name_etc\u201d to \u201cgraph.facebook.com/page_name_etc\u201d and press enter.  This will show you a json readout of the page\u2019s information, the id value is the page id that you want. Here is an example\n",
      "```\n",
      "{\n",
      "   \"id\": \"161018933975937\",\n",
      "   \"about\": \"The official Facebook page for SIGKDD and the KDD 2014 conference. http://www.kdd.org/kdd2014/\",\n",
      "   \"can_post\": false,\n",
      "   \"category\": \"Organization\",\n",
      "   \"checkins\": 0,\n",
      "   \"cover\": {\n",
      "      \"cover_id\": 622697014474791,\n",
      "      \"offset_x\": 0,\n",
      "      \"offset_y\": 0,\n",
      "      \"source\": \"https://fbcdn-sphotos-b-a.akamaihd.net/hphotos-ak-xpa1/t31.0-8/s720x720/10431236_622697014474791_6883537713839232534_o.jpg\",\n",
      "      \"id\": \"622697014474791\"\n",
      "   },\n",
      "   \"description\": \"Get the latest news and updates from ACM's Special Interest Group on Knowledge Discovery and Data Mining (SIGKDD) and the KDD 2014 conference (http://www.kdd.org/kdd2014/).\",\n",
      "   \"has_added_app\": false,\n",
      "   \"is_community_page\": false,\n",
      "   \"is_published\": true,\n",
      "   \"likes\": 1726,\n",
      "   \"link\": \"https://www.facebook.com/SIGKDD\",\n",
      "   \"name\": \"SIGKDD\",\n",
      "   \"parking\": {\n",
      "      \"lot\": 0,\n",
      "      \"street\": 0,\n",
      "      \"valet\": 0\n",
      "   },\n",
      "   \"talking_about_count\": 23,\n",
      "   \"username\": \"SIGKDD\",\n",
      "   \"website\": \"http://www.sigkdd.org\",\n",
      "   \"were_here_count\": 0\n",
      "}\n",
      "```\n"
     ]
    },
    {
     "cell_type": "code",
     "collapsed": false,
     "input": [
      "fbm.setPageId(\"161018933975937\") #SIGKDD Facebook Group"
     ],
     "language": "python",
     "metadata": {},
     "outputs": [],
     "prompt_number": 46
    },
    {
     "cell_type": "markdown",
     "metadata": {},
     "source": [
      "## 3. Set Application Credentials\n",
      "    To get application credentials you will need the following\n",
      "        1. A Facebook developer account\n",
      "        2. An Application account\n",
      "    Getting a Facebook developer account is pretty easy.  I have heard of people having difficulty getting an Application account for the purposes of mining pages though, so be sure to clearly state your intentions when applying for an application account.\n",
      "    \n",
      "    Once you are done, you can get the App ID and the App secret.  If you are bold, you can set the fbMiner's application credentials like this...\n",
      "    \n",
      "    fbMiner.app_id = 123456789101112\n",
      "    fbMiner.app_secret = 123456789101112131415abcdefghijkl\n",
      "    \n",
      "    \n",
      "    There is also a function to just read in the credentials from a json file that would look like this...\n",
      "    \n",
      "    { APP_ID : \"123456789101112\", APP_SECRET : \"123456789101112131415abcdefghijkl\"}\n",
      "    \n",
      "    "
     ]
    },
    {
     "cell_type": "code",
     "collapsed": false,
     "input": [
      "credsIn = open('app_credentials.json', 'r').read()\n",
      "fbm.setAppCredentialsFromJSON(credsIn)"
     ],
     "language": "python",
     "metadata": {},
     "outputs": [],
     "prompt_number": 49
    },
    {
     "cell_type": "markdown",
     "metadata": {},
     "source": [
      "## 4. Get User Credentials\n",
      "    \n",
      "    This part took me a long while to figure out, but this [blog post was very helpful](http://fearofcoding.blogspot.com/2012/10/python-script-to-fetch-messages-from.html).\n",
      "    \n",
      "    Here's what you need to do...\n",
      "    \n",
      "    1. Log in to the [Facebook Graph API Explorer page](https://developers.facebook.com/tools/explorer/)\n",
      "    2. Set the application from \"Graph API Explorer\" to the name of your project using the drop down menu at the top.  If you do not see your app, then make sure that you logged into a facebook account that is set as a developer for the application.  You may need to have the person who started the application add you.\n",
      "    3. click \"Get Access Token\" and copy the access token on the right.  \n",
      "    4. This is just the \"short token\" and will not take long to expire.  If you are data mining a small page and this is not a concern, you can set the fbMiner tool's short token as displayed below, otherwise skip to the next step.\n",
      "        fbm.setShortToken(short_token_string)\n",
      "    5. If your data mining process will need to run for a while, you will need to set a long access token.  fbMiner.setLongToken() is a helper method that will do this for you by passing in the short token.  I suggest that you leave your long token in a file and read it in by passing the file name to fbMiner.setLongTokenFromFile(file_name)"
     ]
    },
    {
     "cell_type": "code",
     "collapsed": false,
     "input": [
      "# set Short Token\n",
      "short_token = \"123456789etc\"\n",
      "fbm.setShortToken(short_token)\n",
      "\n",
      "#set Long Token from string\n",
      "#fbm.setLongToken(short_token)\n",
      "long_token_fileName = \"long_token.txt\"\n",
      "fbm.setLongTokenFromFile(long_token_fileName)"
     ],
     "language": "python",
     "metadata": {},
     "outputs": [],
     "prompt_number": 53
    },
    {
     "cell_type": "markdown",
     "metadata": {},
     "source": [
      "## 5. Start Mining\n",
      "    \n",
      "    At this point you should be able to start collecting data.  If you want to just grab all the post objects from the timeline use fbMiner.get_data() as demonstrated below"
     ]
    },
    {
     "cell_type": "code",
     "collapsed": false,
     "input": [
      "posts = fbm.get_data(limit=100)"
     ],
     "language": "python",
     "metadata": {},
     "outputs": [
      {
       "output_type": "stream",
       "stream": "stdout",
       "text": [
        "page : 1\n",
        "c : 0\n",
        "lockout time : 0 seconds\n",
        "page : 2"
       ]
      },
      {
       "output_type": "stream",
       "stream": "stdout",
       "text": [
        "\n"
       ]
      }
     ],
     "prompt_number": 54
    },
    {
     "cell_type": "code",
     "collapsed": false,
     "input": [
      "posts[0]"
     ],
     "language": "python",
     "metadata": {},
     "outputs": [
      {
       "metadata": {},
       "output_type": "pyout",
       "prompt_number": 56,
       "text": [
        "{u'actions': [{u'link': u'https://www.facebook.com/161018933975937/posts/708284722582686',\n",
        "   u'name': u'Comment'},\n",
        "  {u'link': u'https://www.facebook.com/161018933975937/posts/708284722582686',\n",
        "   u'name': u'Like'}],\n",
        " u'application': {u'id': u'103667826405103',\n",
        "  u'name': u'Buffer',\n",
        "  u'namespace': u'buffer-app'},\n",
        " u'caption': u'www.kdd.org',\n",
        " u'created_time': u'2014-11-25T20:24:33+0000',\n",
        " u'description': u'20th ACM SIGKDD Conference on Knowledge Discovery and Data Mining: homepage',\n",
        " u'from': {u'category': u'Organization',\n",
        "  u'id': u'161018933975937',\n",
        "  u'name': u'SIGKDD'},\n",
        " u'icon': u'https://fbstatic-a.akamaihd.net/rsrc.php/v2/yD/r/aS8ecmYRys0.gif',\n",
        " u'id': u'161018933975937_708284722582686',\n",
        " u'likes': {u'data': [{u'id': u'100000017043967', u'name': u'Petro Rudenko'},\n",
        "   {u'id': u'100000073351348', u'name': u'Shaw Wu'},\n",
        "   {u'id': u'100002089938324', u'name': u'Rosana Veroneze'},\n",
        "   {u'id': u'100000276915749', u'name': u'Christos Berberidis'},\n",
        "   {u'id': u'100000452123860', u'name': u'Tsubasa Takahashi'},\n",
        "   {u'id': u'550103931', u'name': u'Ibrahim Musa'},\n",
        "   {u'id': u'714815433', u'name': u'Shishir Pandey'},\n",
        "   {u'id': u'1619431644', u'name': u'V\\u0129 Ng\\xf4 V\\u0103n'},\n",
        "   {u'id': u'737483873', u'name': u'Danny Huanca Sevilla'},\n",
        "   {u'id': u'100000051986201', u'name': u'Ayushi Dalmia'},\n",
        "   {u'id': u'100003018647877', u'name': u'Masayuki  Ishikawa'},\n",
        "   {u'id': u'729004290', u'name': u'Arturo Oncevay'},\n",
        "   {u'id': u'647297753', u'name': u'Shoumik Roychoudhury'},\n",
        "   {u'id': u'100006101438416', u'name': u'Dew Wardah'},\n",
        "   {u'id': u'1032972796', u'name': u'Sofus Attila Macsk\\xe1ssy'},\n",
        "   {u'id': u'564453662', u'name': u'Tina Eliassi-Rad'}],\n",
        "  u'paging': {u'cursors': {u'after': u'NTY0NDUzNjYy',\n",
        "    u'before': u'MTAwMDAwMDE3MDQzOTY3'}}},\n",
        " u'link': u'http://www.kdd.org/kdd2014/?utm_content=buffer31556&utm_medium=social&utm_source=facebook.com&utm_campaign=buffer',\n",
        " u'message': u'Watch #kdd2014 talks and videos! SIGKDD + KDD 2014 #kdd2015',\n",
        " u'name': u'KDD 2014, 8/24-27, New York: Data Mining for Social Good',\n",
        " u'picture': u'https://fbexternal-a.akamaihd.net/safe_image.php?d=AQDui4zVf3788TaO&w=158&h=158&url=http%3A%2F%2Fwww.kdd.org%2Fkdd2014%2Fimg%2Fvideo-lectures.gif',\n",
        " u'privacy': {u'value': u''},\n",
        " u'status_type': u'shared_story',\n",
        " u'type': u'link',\n",
        " u'updated_time': u'2014-11-25T20:24:33+0000'}"
       ]
      }
     ],
     "prompt_number": 56
    },
    {
     "cell_type": "markdown",
     "metadata": {},
     "source": [
      "    If you want to use the graph API object in a more flexible manner, you can get it directly from fbMiner using fbMiner.getGraphAPI()"
     ]
    },
    {
     "cell_type": "code",
     "collapsed": false,
     "input": [
      "graphAPI = fbm.getGraphAPI()"
     ],
     "language": "python",
     "metadata": {},
     "outputs": [],
     "prompt_number": 57
    },
    {
     "cell_type": "markdown",
     "metadata": {},
     "source": [
      "    It is important to note that fbMiner.get_data() handles pagination automatically and uses a crude attempt at exponential backoff.  Later, I will add more documentation on how to use the fbMiner graph API"
     ]
    }
   ],
   "metadata": {}
  }
 ]
}