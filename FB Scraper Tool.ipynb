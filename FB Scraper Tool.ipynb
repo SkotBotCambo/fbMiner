{
 "metadata": {
  "name": "",
  "signature": "sha256:7400f3f0f1c8acae330d37cb60dd5d602a21381101cb522ff7ed33cb93193a4a"
 },
 "nbformat": 3,
 "nbformat_minor": 0,
 "worksheets": [
  {
   "cells": [
    {
     "cell_type": "markdown",
     "metadata": {},
     "source": [
      "# Scott's FB Scraper Tool"
     ]
    },
    {
     "cell_type": "markdown",
     "metadata": {},
     "source": [
      "Dependencies\n",
      " * facepy\n",
      " * facebook-sdk\n",
      "\n",
      "[Documentation](https://docs.google.com/document/d/1g3hY_91WdvssofOhSei0S3xgdgxXIDCdVQnA_Efq9Is/edit?usp=sharing)"
     ]
    },
    {
     "cell_type": "code",
     "collapsed": false,
     "input": [
      "import scraper\n",
      "import json\n",
      "import numpy as np"
     ],
     "language": "python",
     "metadata": {},
     "outputs": [],
     "prompt_number": 1
    },
    {
     "cell_type": "code",
     "collapsed": false,
     "input": [
      "st = scraper.scraper_tool()"
     ],
     "language": "python",
     "metadata": {},
     "outputs": [],
     "prompt_number": 2
    },
    {
     "cell_type": "code",
     "collapsed": false,
     "input": [
      "boston_hassle_id = '301986473149390'\n",
      "westernMA_noise_id = '57795809271'"
     ],
     "language": "python",
     "metadata": {},
     "outputs": [],
     "prompt_number": 3
    },
    {
     "cell_type": "code",
     "collapsed": false,
     "input": [
      "st.setPageId(westernMA_noise_id)"
     ],
     "language": "python",
     "metadata": {},
     "outputs": [],
     "prompt_number": 4
    },
    {
     "cell_type": "code",
     "collapsed": false,
     "input": [
      "long_token = \"CAAGljQ0ymaQBAE2ZB6TqOXKJJYZBHBGii0eqP1MoYFqLodUEMJjNXW7n8ACdu8TGSHtTYnZC2uSmpcaF1QFVZCdhA0gHSilk71hXBxJ9Lt0WBWBIDJJc4CpzQuGLKXWVSrdtsKeEFPKYEtEKngkiJBLzrnFOdgbRoxAAJaxDxNXcSVuZBpKrKfUVGRpqjjgBjHG1ulG3BRnWjr0z0alWhaStWBnMXZBoYZD\"\n",
      "st.setLongToken(long_token)"
     ],
     "language": "python",
     "metadata": {},
     "outputs": [
      {
       "output_type": "stream",
       "stream": "stdout",
       "text": [
        "expires : 2015-01-24 17:42:46.949135\n"
       ]
      }
     ]
    },
    {
     "cell_type": "code",
     "collapsed": false,
     "input": [
      "posts = st.get_data(limit=60000)"
     ],
     "language": "python",
     "metadata": {},
     "outputs": [
      {
       "output_type": "stream",
       "stream": "stdout",
       "text": [
        "page : 1\n",
        "c : 0\n",
        "lockout time : 0 seconds\n",
        "page : 2"
       ]
      },
      {
       "output_type": "stream",
       "stream": "stdout",
       "text": [
        "\n",
        "c : 0\n",
        "lockout time : 0 seconds\n",
        "page : 3"
       ]
      },
      {
       "output_type": "stream",
       "stream": "stdout",
       "text": [
        "\n",
        "c : 0\n",
        "lockout time : 0 seconds\n",
        "page : 4"
       ]
      },
      {
       "output_type": "stream",
       "stream": "stdout",
       "text": [
        "\n",
        "c : 0\n",
        "lockout time : 0 seconds\n",
        "page : 5"
       ]
      },
      {
       "output_type": "stream",
       "stream": "stdout",
       "text": [
        "\n",
        "c : 0\n",
        "lockout time : 0 seconds\n",
        "page : 6"
       ]
      },
      {
       "output_type": "stream",
       "stream": "stdout",
       "text": [
        "\n",
        "c : 0\n",
        "lockout time : 0 seconds\n",
        "page : 7"
       ]
      },
      {
       "output_type": "stream",
       "stream": "stdout",
       "text": [
        "\n",
        "c : 0\n",
        "lockout time : 0 seconds\n",
        "page : 8"
       ]
      },
      {
       "output_type": "stream",
       "stream": "stdout",
       "text": [
        "\n",
        "c : 0\n",
        "lockout time : 0 seconds\n",
        "page : 9"
       ]
      },
      {
       "output_type": "stream",
       "stream": "stdout",
       "text": [
        "\n",
        "c : 0\n",
        "lockout time : 0 seconds\n",
        "page : 10"
       ]
      },
      {
       "output_type": "stream",
       "stream": "stdout",
       "text": [
        "\n",
        "c : 0\n",
        "lockout time : 0 seconds\n",
        "page : 11"
       ]
      },
      {
       "output_type": "stream",
       "stream": "stdout",
       "text": [
        "\n",
        "c : 0\n",
        "lockout time : 0 seconds\n",
        "page : 12"
       ]
      },
      {
       "output_type": "stream",
       "stream": "stdout",
       "text": [
        "\n",
        "c : 0\n",
        "lockout time : 0 seconds\n",
        "page : 13"
       ]
      },
      {
       "output_type": "stream",
       "stream": "stdout",
       "text": [
        "\n",
        "c : 0\n",
        "lockout time : 0 seconds\n",
        "page : 14"
       ]
      },
      {
       "output_type": "stream",
       "stream": "stdout",
       "text": [
        "\n",
        "c : 0\n",
        "lockout time : 0 seconds\n",
        "page : 15"
       ]
      },
      {
       "output_type": "stream",
       "stream": "stdout",
       "text": [
        "\n",
        "c : 0\n",
        "lockout time : 0 seconds\n",
        "page : 16"
       ]
      },
      {
       "output_type": "stream",
       "stream": "stdout",
       "text": [
        "\n",
        "c : 0\n",
        "lockout time : 0 seconds\n",
        "page : 17"
       ]
      },
      {
       "output_type": "stream",
       "stream": "stdout",
       "text": [
        "\n",
        "c : 0\n",
        "lockout time : 0 seconds\n",
        "page : 18"
       ]
      },
      {
       "output_type": "stream",
       "stream": "stdout",
       "text": [
        "\n",
        "c : 0\n",
        "lockout time : 0 seconds\n",
        "page : 19"
       ]
      },
      {
       "output_type": "stream",
       "stream": "stdout",
       "text": [
        "\n",
        "c : 0\n",
        "lockout time : 0 seconds\n",
        "page : 20"
       ]
      },
      {
       "output_type": "stream",
       "stream": "stdout",
       "text": [
        "\n",
        "c : 0\n",
        "lockout time : 0 seconds\n",
        "page : 21"
       ]
      },
      {
       "output_type": "stream",
       "stream": "stdout",
       "text": [
        "\n",
        "c : 0\n",
        "lockout time : 0 seconds\n",
        "page : 22"
       ]
      },
      {
       "output_type": "stream",
       "stream": "stdout",
       "text": [
        "\n",
        "c : 0\n",
        "lockout time : 0 seconds\n",
        "page : 23"
       ]
      },
      {
       "output_type": "stream",
       "stream": "stdout",
       "text": [
        "\n",
        "c : 0\n",
        "lockout time : 0 seconds\n",
        "page : 24"
       ]
      },
      {
       "output_type": "stream",
       "stream": "stdout",
       "text": [
        "\n",
        "c : 0\n",
        "lockout time : 0 seconds\n",
        "page : 25"
       ]
      },
      {
       "output_type": "stream",
       "stream": "stdout",
       "text": [
        "\n",
        "c : 0\n",
        "lockout time : 0 seconds\n",
        "page : 26"
       ]
      },
      {
       "output_type": "stream",
       "stream": "stdout",
       "text": [
        "\n",
        "c : 0\n",
        "lockout time : 0 seconds\n",
        "page : 27"
       ]
      },
      {
       "output_type": "stream",
       "stream": "stdout",
       "text": [
        "\n",
        "c : 0\n",
        "lockout time : 0 seconds\n",
        "page : 28"
       ]
      },
      {
       "output_type": "stream",
       "stream": "stdout",
       "text": [
        "\n",
        "c : 0\n",
        "lockout time : 0 seconds\n",
        "page : 29"
       ]
      },
      {
       "output_type": "stream",
       "stream": "stdout",
       "text": [
        "\n",
        "c : 0\n",
        "lockout time : 0 seconds\n",
        "page : 30"
       ]
      },
      {
       "output_type": "stream",
       "stream": "stdout",
       "text": [
        "\n",
        "c : 0\n",
        "lockout time : 0 seconds\n",
        "page : 31"
       ]
      },
      {
       "output_type": "stream",
       "stream": "stdout",
       "text": [
        "\n",
        "c : 0\n",
        "lockout time : 0 seconds\n",
        "page : 32"
       ]
      },
      {
       "output_type": "stream",
       "stream": "stdout",
       "text": [
        "\n",
        "c : 0\n",
        "lockout time : 0 seconds\n",
        "page : 33"
       ]
      },
      {
       "output_type": "stream",
       "stream": "stdout",
       "text": [
        "\n",
        "c : 0\n",
        "lockout time : 0 seconds\n",
        "page : 34"
       ]
      },
      {
       "output_type": "stream",
       "stream": "stdout",
       "text": [
        "\n",
        "c : 0\n",
        "lockout time : 0 seconds\n",
        "page : 35"
       ]
      },
      {
       "output_type": "stream",
       "stream": "stdout",
       "text": [
        "\n",
        "c : 0\n",
        "lockout time : 0 seconds\n",
        "page : 36"
       ]
      },
      {
       "output_type": "stream",
       "stream": "stdout",
       "text": [
        "\n",
        "c : 0\n",
        "lockout time : 0 seconds\n",
        "page : 37"
       ]
      },
      {
       "output_type": "stream",
       "stream": "stdout",
       "text": [
        "\n",
        "c : 0\n",
        "lockout time : 0 seconds\n",
        "page : 38"
       ]
      },
      {
       "output_type": "stream",
       "stream": "stdout",
       "text": [
        "\n",
        "c : 0\n",
        "lockout time : 0 seconds\n",
        "page : 39"
       ]
      },
      {
       "output_type": "stream",
       "stream": "stdout",
       "text": [
        "\n",
        "c : 0\n",
        "lockout time : 0 seconds\n",
        "page : 40"
       ]
      },
      {
       "output_type": "stream",
       "stream": "stdout",
       "text": [
        "\n",
        "c : 0\n",
        "lockout time : 0 seconds\n",
        "page : 41"
       ]
      },
      {
       "output_type": "stream",
       "stream": "stdout",
       "text": [
        "\n",
        "c : 0\n",
        "lockout time : 0 seconds\n",
        "page : 42"
       ]
      },
      {
       "output_type": "stream",
       "stream": "stdout",
       "text": [
        "\n",
        "c : 0\n",
        "lockout time : 0 seconds\n",
        "page : 43"
       ]
      },
      {
       "output_type": "stream",
       "stream": "stdout",
       "text": [
        "\n",
        "c : 0\n",
        "lockout time : 0 seconds\n",
        "page : 44"
       ]
      },
      {
       "output_type": "stream",
       "stream": "stdout",
       "text": [
        "\n",
        "c : 0\n",
        "lockout time : 0 seconds\n",
        "page : 45"
       ]
      },
      {
       "output_type": "stream",
       "stream": "stdout",
       "text": [
        "\n",
        "c : 0\n",
        "lockout time : 0 seconds\n",
        "page : 46"
       ]
      },
      {
       "output_type": "stream",
       "stream": "stdout",
       "text": [
        "\n",
        "c : 0\n",
        "lockout time : 0 seconds\n",
        "page : 47"
       ]
      },
      {
       "output_type": "stream",
       "stream": "stdout",
       "text": [
        "\n",
        "c : 0\n",
        "lockout time : 0 seconds\n",
        "page : 48"
       ]
      },
      {
       "output_type": "stream",
       "stream": "stdout",
       "text": [
        "\n",
        "c : 0\n",
        "lockout time : 0 seconds\n",
        "page : 49"
       ]
      },
      {
       "output_type": "stream",
       "stream": "stdout",
       "text": [
        "\n",
        "c : 0\n",
        "lockout time : 0 seconds\n",
        "page : 50"
       ]
      },
      {
       "output_type": "stream",
       "stream": "stdout",
       "text": [
        "\n",
        "c : 0\n",
        "lockout time : 0 seconds\n",
        "page : 51"
       ]
      },
      {
       "output_type": "stream",
       "stream": "stdout",
       "text": [
        "\n",
        "c : 0\n",
        "lockout time : 0 seconds\n",
        "page : 52"
       ]
      },
      {
       "output_type": "stream",
       "stream": "stdout",
       "text": [
        "\n",
        "c : 0\n",
        "lockout time : 0 seconds\n",
        "page : 53"
       ]
      },
      {
       "output_type": "stream",
       "stream": "stdout",
       "text": [
        "\n",
        "c : 0\n",
        "lockout time : 0 seconds\n",
        "page : 54"
       ]
      },
      {
       "output_type": "stream",
       "stream": "stdout",
       "text": [
        "\n",
        "c : 0\n",
        "lockout time : 0 seconds\n",
        "page : 55"
       ]
      },
      {
       "output_type": "stream",
       "stream": "stdout",
       "text": [
        "\n",
        "c : 0\n",
        "lockout time : 0 seconds\n",
        "page : 56"
       ]
      },
      {
       "output_type": "stream",
       "stream": "stdout",
       "text": [
        "\n",
        "c : 0\n",
        "lockout time : 0 seconds\n",
        "page : 57"
       ]
      },
      {
       "output_type": "stream",
       "stream": "stdout",
       "text": [
        "\n",
        "c : 0\n",
        "lockout time : 0 seconds\n",
        "page : 58"
       ]
      },
      {
       "output_type": "stream",
       "stream": "stdout",
       "text": [
        "\n",
        "c : 0\n",
        "lockout time : 0 seconds\n",
        "page : 59"
       ]
      },
      {
       "output_type": "stream",
       "stream": "stdout",
       "text": [
        "\n",
        "c : 0\n",
        "lockout time : 0 seconds\n",
        "page : 60"
       ]
      },
      {
       "output_type": "stream",
       "stream": "stdout",
       "text": [
        "\n",
        "c : 0\n",
        "lockout time : 0 seconds\n",
        "page : 61"
       ]
      },
      {
       "output_type": "stream",
       "stream": "stdout",
       "text": [
        "\n",
        "c : 0\n",
        "lockout time : 0 seconds\n",
        "page : 62"
       ]
      },
      {
       "output_type": "stream",
       "stream": "stdout",
       "text": [
        "\n",
        "c : 0\n",
        "lockout time : 0 seconds\n",
        "page : 63"
       ]
      },
      {
       "output_type": "stream",
       "stream": "stdout",
       "text": [
        "\n",
        "c : 0\n",
        "lockout time : 0 seconds\n",
        "page : 64"
       ]
      },
      {
       "output_type": "stream",
       "stream": "stdout",
       "text": [
        "\n",
        "c : 0\n",
        "lockout time : 0 seconds\n",
        "page : 65"
       ]
      },
      {
       "output_type": "stream",
       "stream": "stdout",
       "text": [
        "\n",
        "c : 0\n",
        "lockout time : 0 seconds\n",
        "page : 66"
       ]
      },
      {
       "output_type": "stream",
       "stream": "stdout",
       "text": [
        "\n",
        "c : 0\n",
        "lockout time : 0 seconds\n",
        "page : 67"
       ]
      },
      {
       "output_type": "stream",
       "stream": "stdout",
       "text": [
        "\n",
        "c : 0\n",
        "lockout time : 0 seconds\n",
        "page : 68"
       ]
      },
      {
       "output_type": "stream",
       "stream": "stdout",
       "text": [
        "\n",
        "c : 0\n",
        "lockout time : 0 seconds\n",
        "page : 69"
       ]
      },
      {
       "output_type": "stream",
       "stream": "stdout",
       "text": [
        "\n",
        "c : 0\n",
        "lockout time : 0 seconds\n",
        "page : 70"
       ]
      },
      {
       "output_type": "stream",
       "stream": "stdout",
       "text": [
        "\n",
        "c : 0\n",
        "lockout time : 0 seconds\n",
        "page : 71"
       ]
      },
      {
       "output_type": "stream",
       "stream": "stdout",
       "text": [
        "\n",
        "c : 0\n",
        "lockout time : 0 seconds\n",
        "page : 72"
       ]
      },
      {
       "output_type": "stream",
       "stream": "stdout",
       "text": [
        "\n",
        "c : 0\n",
        "lockout time : 0 seconds\n",
        "page : 73"
       ]
      },
      {
       "output_type": "stream",
       "stream": "stdout",
       "text": [
        "\n",
        "c : 0\n",
        "lockout time : 0 seconds\n",
        "page : 74"
       ]
      },
      {
       "output_type": "stream",
       "stream": "stdout",
       "text": [
        "\n",
        "c : 0\n",
        "lockout time : 0 seconds\n",
        "page : 75"
       ]
      },
      {
       "output_type": "stream",
       "stream": "stdout",
       "text": [
        "\n",
        "c : 0\n",
        "lockout time : 0 seconds\n",
        "page : 76"
       ]
      },
      {
       "output_type": "stream",
       "stream": "stdout",
       "text": [
        "\n",
        "c : 0\n",
        "lockout time : 0 seconds\n",
        "page : 77"
       ]
      },
      {
       "output_type": "stream",
       "stream": "stdout",
       "text": [
        "\n",
        "c : 0\n",
        "lockout time : 0 seconds\n",
        "page : 78"
       ]
      },
      {
       "output_type": "stream",
       "stream": "stdout",
       "text": [
        "\n",
        "c : 0\n",
        "lockout time : 0 seconds\n",
        "page : 79"
       ]
      },
      {
       "output_type": "stream",
       "stream": "stdout",
       "text": [
        "\n",
        "c : 0\n",
        "lockout time : 0 seconds\n",
        "page : 80"
       ]
      },
      {
       "output_type": "stream",
       "stream": "stdout",
       "text": [
        "\n",
        "c : 0\n",
        "lockout time : 0 seconds\n",
        "page : 81"
       ]
      },
      {
       "output_type": "stream",
       "stream": "stdout",
       "text": [
        "\n",
        "c : 0\n",
        "lockout time : 0 seconds\n",
        "page : 82"
       ]
      },
      {
       "output_type": "stream",
       "stream": "stdout",
       "text": [
        "\n",
        "c : 0\n",
        "lockout time : 0 seconds\n",
        "page : 83"
       ]
      },
      {
       "output_type": "stream",
       "stream": "stdout",
       "text": [
        "\n",
        "c : 0\n",
        "lockout time : 0 seconds\n",
        "page : 84"
       ]
      },
      {
       "output_type": "stream",
       "stream": "stdout",
       "text": [
        "\n",
        "c : 0\n",
        "lockout time : 0 seconds\n",
        "page : 85"
       ]
      },
      {
       "output_type": "stream",
       "stream": "stdout",
       "text": [
        "\n",
        "c : 0\n",
        "lockout time : 0 seconds\n",
        "page : 86"
       ]
      },
      {
       "output_type": "stream",
       "stream": "stdout",
       "text": [
        "\n",
        "c : 0\n",
        "lockout time : 0 seconds\n",
        "page : 87"
       ]
      },
      {
       "output_type": "stream",
       "stream": "stdout",
       "text": [
        "\n",
        "c : 0\n",
        "lockout time : 0 seconds\n",
        "page : 88"
       ]
      },
      {
       "output_type": "stream",
       "stream": "stdout",
       "text": [
        "\n",
        "c : 0\n",
        "lockout time : 0 seconds\n",
        "page : 89"
       ]
      },
      {
       "output_type": "stream",
       "stream": "stdout",
       "text": [
        "\n",
        "c : 0\n",
        "lockout time : 0 seconds\n",
        "page : 90"
       ]
      },
      {
       "output_type": "stream",
       "stream": "stdout",
       "text": [
        "\n",
        "c : 0\n",
        "lockout time : 0 seconds\n",
        "page : 91"
       ]
      },
      {
       "output_type": "stream",
       "stream": "stdout",
       "text": [
        "\n",
        "c : 0\n",
        "lockout time : 0 seconds\n",
        "page : 92"
       ]
      },
      {
       "output_type": "stream",
       "stream": "stdout",
       "text": [
        "\n",
        "c : 0\n",
        "lockout time : 0 seconds\n",
        "page : 93"
       ]
      },
      {
       "output_type": "stream",
       "stream": "stdout",
       "text": [
        "\n",
        "c : 0\n",
        "lockout time : 0 seconds\n",
        "page : 94"
       ]
      },
      {
       "output_type": "stream",
       "stream": "stdout",
       "text": [
        "\n",
        "c : 0\n",
        "lockout time : 0 seconds\n",
        "page : 95"
       ]
      },
      {
       "output_type": "stream",
       "stream": "stdout",
       "text": [
        "\n",
        "c : 0\n",
        "lockout time : 0 seconds\n",
        "page : 96"
       ]
      },
      {
       "output_type": "stream",
       "stream": "stdout",
       "text": [
        "\n",
        "c : 0\n",
        "lockout time : 0 seconds\n",
        "page : 97"
       ]
      },
      {
       "output_type": "stream",
       "stream": "stdout",
       "text": [
        "\n",
        "c : 0\n",
        "lockout time : 0 seconds\n",
        "page : 98"
       ]
      },
      {
       "output_type": "stream",
       "stream": "stdout",
       "text": [
        "\n",
        "c : 0\n",
        "lockout time : 0 seconds\n",
        "page : 99"
       ]
      },
      {
       "output_type": "stream",
       "stream": "stdout",
       "text": [
        "\n",
        "c : 0\n",
        "lockout time : 0 seconds\n",
        "page : 100"
       ]
      },
      {
       "output_type": "stream",
       "stream": "stdout",
       "text": [
        "\n",
        "c : 0\n",
        "lockout time : 0 seconds\n",
        "page : 101"
       ]
      },
      {
       "output_type": "stream",
       "stream": "stdout",
       "text": [
        "\n",
        "c : 0\n",
        "lockout time : 0 seconds\n",
        "page : 102"
       ]
      },
      {
       "output_type": "stream",
       "stream": "stdout",
       "text": [
        "\n",
        "c : 0\n",
        "lockout time : 0 seconds\n",
        "page : 103"
       ]
      },
      {
       "output_type": "stream",
       "stream": "stdout",
       "text": [
        "\n",
        "c : 0\n",
        "lockout time : 0 seconds\n",
        "page : 104"
       ]
      },
      {
       "output_type": "stream",
       "stream": "stdout",
       "text": [
        "\n",
        "c : 0\n",
        "lockout time : 0 seconds\n",
        "page : 105"
       ]
      },
      {
       "output_type": "stream",
       "stream": "stdout",
       "text": [
        "\n",
        "c : 0\n",
        "lockout time : 0 seconds\n",
        "page : 106"
       ]
      },
      {
       "output_type": "stream",
       "stream": "stdout",
       "text": [
        "\n",
        "c : 0\n",
        "lockout time : 0 seconds\n",
        "page : 107"
       ]
      },
      {
       "output_type": "stream",
       "stream": "stdout",
       "text": [
        "\n",
        "c : 0\n",
        "lockout time : 0 seconds\n",
        "page : 108"
       ]
      },
      {
       "output_type": "stream",
       "stream": "stdout",
       "text": [
        "\n",
        "c : 0\n",
        "lockout time : 0 seconds\n",
        "page : 109"
       ]
      },
      {
       "output_type": "stream",
       "stream": "stdout",
       "text": [
        "\n",
        "c : 0\n",
        "lockout time : 0 seconds\n",
        "page : 110"
       ]
      },
      {
       "output_type": "stream",
       "stream": "stdout",
       "text": [
        "\n",
        "c : 0\n",
        "lockout time : 0 seconds\n",
        "page : 111"
       ]
      },
      {
       "output_type": "stream",
       "stream": "stdout",
       "text": [
        "\n",
        "c : 0\n",
        "lockout time : 0 seconds\n",
        "page : 112"
       ]
      },
      {
       "output_type": "stream",
       "stream": "stdout",
       "text": [
        "\n",
        "c : 0\n",
        "lockout time : 0 seconds\n",
        "page : 113"
       ]
      },
      {
       "output_type": "stream",
       "stream": "stdout",
       "text": [
        "\n",
        "c : 0\n",
        "lockout time : 0 seconds\n",
        "page : 114"
       ]
      },
      {
       "output_type": "stream",
       "stream": "stdout",
       "text": [
        "\n",
        "c : 0\n",
        "lockout time : 0 seconds\n",
        "page : 115"
       ]
      },
      {
       "output_type": "stream",
       "stream": "stdout",
       "text": [
        "\n",
        "c : 0\n",
        "lockout time : 0 seconds\n",
        "page : 116"
       ]
      },
      {
       "output_type": "stream",
       "stream": "stdout",
       "text": [
        "\n",
        "c : 0\n",
        "lockout time : 0 seconds\n",
        "page : 117"
       ]
      }
     ]
    }
   ],
   "metadata": {}
  }
 ]
}